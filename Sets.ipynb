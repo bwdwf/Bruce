{
 "cells": [
  {
   "cell_type": "markdown",
   "metadata": {},
   "source": [
    "# Sets\n",
    "\n",
    "## Another important Python object is a collection referred to as a \"set\"\n",
    "## A set can be viewed as an unordered list in which elements can only appear once.\n",
    "\n",
    "## A set is mutable. There is also an object called a _frozenset_, not discussed here."
   ]
  },
  {
   "cell_type": "markdown",
   "metadata": {},
   "source": [
    "## constructing a set"
   ]
  },
  {
   "cell_type": "code",
   "execution_count": 7,
   "metadata": {},
   "outputs": [
    {
     "data": {
      "text/plain": [
       "False"
      ]
     },
     "execution_count": 7,
     "metadata": {},
     "output_type": "execute_result"
    }
   ],
   "source": [
    "s1={1,2,3,4,5}\n",
    "s2=set([1,2,3,4,5])\n",
    "s1==s2"
   ]
  },
  {
   "cell_type": "markdown",
   "metadata": {},
   "source": [
    "## empty set - we can't use {} for the empty set since {} refers to a dictionary with no keys"
   ]
  },
  {
   "cell_type": "code",
   "execution_count": 12,
   "metadata": {},
   "outputs": [
    {
     "name": "stdout",
     "output_type": "stream",
     "text": [
      "<class 'dict'>\n",
      "<class 'set'>\n"
     ]
    }
   ],
   "source": [
    "s={}\n",
    "print(type(s))\n",
    "s=set()\n",
    "print(type(s))"
   ]
  },
  {
   "cell_type": "markdown",
   "metadata": {},
   "source": [
    "## test for membership"
   ]
  },
  {
   "cell_type": "code",
   "execution_count": 21,
   "metadata": {},
   "outputs": [
    {
     "name": "stdout",
     "output_type": "stream",
     "text": [
      "True\n",
      "False\n"
     ]
    }
   ],
   "source": [
    "fruits=set([\"apple\",\"orange\",\"banana\",\"pear\",\"grapefruit\",\"rambutan\"])\n",
    "b='apple' in fruits\n",
    "print(b)\n",
    "b='tomato' in fruits\n",
    "print(b)"
   ]
  },
  {
   "cell_type": "markdown",
   "metadata": {},
   "source": [
    "## add an element to a set"
   ]
  },
  {
   "cell_type": "code",
   "execution_count": 46,
   "metadata": {},
   "outputs": [
    {
     "name": "stdout",
     "output_type": "stream",
     "text": [
      "{'apple', 'orange', 'banana', 'grapefruit', 'pear', 'grape', 'rambutan'}\n"
     ]
    }
   ],
   "source": [
    "fruits=set([\"apple\",\"orange\",\"banana\",\"pear\",\"grapefruit\",\"rambutan\"])\n",
    "fruits.add(\"grape\")\n",
    "print(fruits)"
   ]
  },
  {
   "cell_type": "markdown",
   "metadata": {},
   "source": [
    "## remove an element from a set"
   ]
  },
  {
   "cell_type": "code",
   "execution_count": 49,
   "metadata": {},
   "outputs": [
    {
     "name": "stdout",
     "output_type": "stream",
     "text": [
      "{'orange', 'banana', 'grapefruit', 'pear', 'rambutan'}\n"
     ]
    }
   ],
   "source": [
    "fruits=set([\"apple\",\"orange\",\"banana\",\"pear\",\"grapefruit\",\"rambutan\"])\n",
    "fruits.remove(\"apple\")\n",
    "print(fruits)"
   ]
  },
  {
   "cell_type": "markdown",
   "metadata": {},
   "source": [
    "## what if we try to remove an element that isn't there"
   ]
  },
  {
   "cell_type": "code",
   "execution_count": 60,
   "metadata": {},
   "outputs": [
    {
     "ename": "KeyError",
     "evalue": "'grape'",
     "output_type": "error",
     "traceback": [
      "\u001b[1;31m---------------------------------------------------------------------------\u001b[0m",
      "\u001b[1;31mKeyError\u001b[0m                                  Traceback (most recent call last)",
      "\u001b[1;32m<ipython-input-60-1cde9f46fb76>\u001b[0m in \u001b[0;36m<module>\u001b[1;34m\u001b[0m\n\u001b[0;32m      1\u001b[0m \u001b[0mfruits\u001b[0m\u001b[1;33m=\u001b[0m\u001b[0mset\u001b[0m\u001b[1;33m(\u001b[0m\u001b[1;33m[\u001b[0m\u001b[1;34m\"apple\"\u001b[0m\u001b[1;33m,\u001b[0m\u001b[1;34m\"orange\"\u001b[0m\u001b[1;33m,\u001b[0m\u001b[1;34m\"banana\"\u001b[0m\u001b[1;33m,\u001b[0m\u001b[1;34m\"pear\"\u001b[0m\u001b[1;33m,\u001b[0m\u001b[1;34m\"grapefruit\"\u001b[0m\u001b[1;33m,\u001b[0m\u001b[1;34m\"rambutan\"\u001b[0m\u001b[1;33m]\u001b[0m\u001b[1;33m)\u001b[0m\u001b[1;33m\u001b[0m\u001b[1;33m\u001b[0m\u001b[0m\n\u001b[1;32m----> 2\u001b[1;33m \u001b[0mfruits\u001b[0m\u001b[1;33m.\u001b[0m\u001b[0mremove\u001b[0m\u001b[1;33m(\u001b[0m\u001b[1;34m\"grape\"\u001b[0m\u001b[1;33m)\u001b[0m\u001b[1;33m\u001b[0m\u001b[1;33m\u001b[0m\u001b[0m\n\u001b[0m",
      "\u001b[1;31mKeyError\u001b[0m: 'grape'"
     ]
    }
   ],
   "source": [
    "fruits=set([\"apple\",\"orange\",\"banana\",\"pear\",\"grapefruit\",\"rambutan\"])\n",
    "fruits.remove(\"grape\")"
   ]
  },
  {
   "cell_type": "markdown",
   "metadata": {},
   "source": [
    "## discard only removes element if it is there"
   ]
  },
  {
   "cell_type": "code",
   "execution_count": 62,
   "metadata": {},
   "outputs": [
    {
     "name": "stdout",
     "output_type": "stream",
     "text": [
      "{'apple', 'orange', 'banana', 'grapefruit', 'pear', 'rambutan'}\n"
     ]
    }
   ],
   "source": [
    "fruits=set([\"apple\",\"orange\",\"banana\",\"pear\",\"grapefruit\",\"rambutan\"])\n",
    "fruits.discard(\"grape\")\n",
    "print(fruits)"
   ]
  },
  {
   "cell_type": "markdown",
   "metadata": {},
   "source": [
    "## number of elements"
   ]
  },
  {
   "cell_type": "code",
   "execution_count": 22,
   "metadata": {},
   "outputs": [
    {
     "data": {
      "text/plain": [
       "6"
      ]
     },
     "execution_count": 22,
     "metadata": {},
     "output_type": "execute_result"
    }
   ],
   "source": [
    "fruits=set([\"apple\",\"orange\",\"banana\",\"pear\",\"grapefruit\",\"rambutan\"])\n",
    "len(fruits)"
   ]
  },
  {
   "cell_type": "markdown",
   "metadata": {},
   "source": [
    "## remove and return an element"
   ]
  },
  {
   "cell_type": "code",
   "execution_count": 56,
   "metadata": {},
   "outputs": [
    {
     "name": "stdout",
     "output_type": "stream",
     "text": [
      "apple\n",
      "orange\n",
      "banana\n",
      "grapefruit\n",
      "pear\n",
      "rambutan\n"
     ]
    }
   ],
   "source": [
    "fruits=set([\"apple\",\"orange\",\"banana\",\"pear\",\"grapefruit\",\"rambutan\"])\n",
    "while len(fruits)>0:\n",
    "    x=fruits.pop()\n",
    "    print(x)"
   ]
  },
  {
   "cell_type": "markdown",
   "metadata": {},
   "source": [
    "## union of sets"
   ]
  },
  {
   "cell_type": "code",
   "execution_count": 32,
   "metadata": {},
   "outputs": [
    {
     "name": "stdout",
     "output_type": "stream",
     "text": [
      "{'apple', 'orange', 'pear', 'banana', 'grapefruit', 'peach', 'plum', 'rambutan'}\n",
      "True\n"
     ]
    }
   ],
   "source": [
    "fruits1=set([\"apple\",\"orange\",\"banana\",\"pear\",\"grapefruit\",\"rambutan\"])\n",
    "fruits2={'plum','peach'}\n",
    "f21=fruits2.union(fruits1)\n",
    "print(f21)\n",
    "f12=fruits2.union(fruits1)\n",
    "print(f12==f21)"
   ]
  },
  {
   "cell_type": "markdown",
   "metadata": {},
   "source": [
    "## intersection of sets"
   ]
  },
  {
   "cell_type": "code",
   "execution_count": 35,
   "metadata": {},
   "outputs": [
    {
     "name": "stdout",
     "output_type": "stream",
     "text": [
      "{'pear'}\n"
     ]
    }
   ],
   "source": [
    "fruits1={\"apple\",\"orange\",\"banana\",\"pear\",\"grapefruit\",\"rambutan\"}\n",
    "fruits2={'plum','peach','pear'}\n",
    "f=fruits2.intersection(fruits1)\n",
    "print(f)"
   ]
  },
  {
   "cell_type": "markdown",
   "metadata": {},
   "source": [
    "## set difference"
   ]
  },
  {
   "cell_type": "code",
   "execution_count": 37,
   "metadata": {},
   "outputs": [
    {
     "name": "stdout",
     "output_type": "stream",
     "text": [
      "{'apple', 'banana', 'grapefruit', 'orange', 'rambutan'}\n"
     ]
    }
   ],
   "source": [
    "fruits1={\"apple\",\"orange\",\"banana\",\"pear\",\"grapefruit\",\"rambutan\"}\n",
    "fruits2={'plum','peach','pear'}\n",
    "f=fruits1.difference(fruits2)\n",
    "print(f)"
   ]
  },
  {
   "cell_type": "markdown",
   "metadata": {},
   "source": [
    "## symmetric difference"
   ]
  },
  {
   "cell_type": "code",
   "execution_count": 40,
   "metadata": {},
   "outputs": [
    {
     "name": "stdout",
     "output_type": "stream",
     "text": [
      "{'apple', 'orange', 'banana', 'grapefruit', 'peach', 'plum', 'rambutan'}\n"
     ]
    }
   ],
   "source": [
    "fruits1={\"apple\",\"orange\",\"banana\",\"pear\",\"grapefruit\",\"rambutan\"}\n",
    "fruits2={'plum','peach','pear'}\n",
    "f=fruits1.symmetric_difference(fruits2)\n",
    "print(f)"
   ]
  },
  {
   "cell_type": "markdown",
   "metadata": {},
   "source": [
    "## set comparison"
   ]
  },
  {
   "cell_type": "code",
   "execution_count": 26,
   "metadata": {},
   "outputs": [
    {
     "name": "stdout",
     "output_type": "stream",
     "text": [
      "True\n",
      "True\n"
     ]
    }
   ],
   "source": [
    "fruits={\"apple\",\"orange\",\"banana\",\"pear\",\"grapefruit\",\"rambutan\"}\n",
    "myfruits={\"orange\",\"apple\"}\n",
    "b=myfruits<=fruits\n",
    "print(b)\n",
    "b=myfruits.issubset(fruits)\n",
    "print(b)"
   ]
  },
  {
   "cell_type": "markdown",
   "metadata": {},
   "source": [
    "# set copy"
   ]
  },
  {
   "cell_type": "code",
   "execution_count": 43,
   "metadata": {},
   "outputs": [
    {
     "name": "stdout",
     "output_type": "stream",
     "text": [
      "{'apple', 'grapefruit', 'orange', 'pear', 'banana', 'rambutan'}\n",
      "False\n"
     ]
    }
   ],
   "source": [
    "fruits={\"apple\",\"orange\",\"banana\",\"pear\",\"grapefruit\",\"rambutan\"}\n",
    "fruits_new=fruits.copy()\n",
    "print(fruits_new)\n",
    "print(fruits_new is fruits)"
   ]
  },
  {
   "cell_type": "code",
   "execution_count": null,
   "metadata": {},
   "outputs": [],
   "source": []
  }
 ],
 "metadata": {
  "kernelspec": {
   "display_name": "Python 3",
   "language": "python",
   "name": "python3"
  },
  "language_info": {
   "codemirror_mode": {
    "name": "ipython",
    "version": 3
   },
   "file_extension": ".py",
   "mimetype": "text/x-python",
   "name": "python",
   "nbconvert_exporter": "python",
   "pygments_lexer": "ipython3",
   "version": "3.7.3"
  }
 },
 "nbformat": 4,
 "nbformat_minor": 4
}
