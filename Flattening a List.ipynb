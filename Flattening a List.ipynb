{
 "cells": [
  {
   "cell_type": "markdown",
   "metadata": {},
   "source": [
    "# Flattening a List\n",
    "\n",
    "## Suppose we have a list of lists, such as [[1,2,3],[4,5,6],[7,8,9]] and we want to create a list of every element that appears in one of the sublists, i.e. in this case [1,2,3,4,5,6,7,8,9]. Some refer to this operation as _flattening_.\n",
    "\n",
    "## We can use nested list comprehension for this task."
   ]
  },
  {
   "cell_type": "code",
   "execution_count": 3,
   "metadata": {},
   "outputs": [
    {
     "name": "stdout",
     "output_type": "stream",
     "text": [
      "[1, 2, 3, 4, 5, 6, 7, 8, 9]\n"
     ]
    }
   ],
   "source": [
    "L=[[1,2,3],[4,5,6],[7,8,9]]\n",
    "M=[x for y in L for x in y]\n",
    "print(M)"
   ]
  }
 ],
 "metadata": {
  "kernelspec": {
   "display_name": "Python 3",
   "language": "python",
   "name": "python3"
  },
  "language_info": {
   "codemirror_mode": {
    "name": "ipython",
    "version": 3
   },
   "file_extension": ".py",
   "mimetype": "text/x-python",
   "name": "python",
   "nbconvert_exporter": "python",
   "pygments_lexer": "ipython3",
   "version": "3.7.3"
  }
 },
 "nbformat": 4,
 "nbformat_minor": 4
}
